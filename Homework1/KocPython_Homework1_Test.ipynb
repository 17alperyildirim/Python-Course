{
 "cells": [
  {
   "cell_type": "code",
   "execution_count": 1,
   "metadata": {},
   "outputs": [],
   "source": [
    "import random\n",
    "\n",
    "rand_s = random.uniform(0.5, 1.5)\n",
    "rand_mf = random.uniform(0.9, 1.2)\n",
    "rand_b = random.uniform(0.9, 1.1)\n",
    "\n",
    "class Stock:\n",
    "    def __init__(self, price, symbol):\n",
    "        self.price = price\n",
    "        self.symbol = symbol\n",
    "            \n",
    "class MutualFund:\n",
    "    def __init__(self, symbol):\n",
    "        self.price = 1\n",
    "        self.symbol = symbol\n",
    "        \n",
    "class Bond(Stock):\n",
    "    def __init__(self, price, symbol, coupon):\n",
    "        super().__init__(price, symbol)\n",
    "        self.coupon = coupon   \n",
    "        \n",
    "class Portfolio:\n",
    "    asset_type = 'portfolio'\n",
    "    def __init__(self):\n",
    "        self.cash = 0\n",
    "        self.funds = {}\n",
    "        self.stocks = {}\n",
    "        self.bonds = {}\n",
    "        self.transactions = []\n",
    "        self.num_shares = 0\n",
    "        self.percentage_shares = 0\n",
    "        self.bond_shares = 0\n",
    "    \n",
    "    def addCash(self, new_cash):\n",
    "        if new_cash <= 0:\n",
    "            print(\"Error, you cannot add negative cash to the cash account.\")\n",
    "            return\n",
    "        else:\n",
    "            self.cash += new_cash\n",
    "            self.transactions.append(f\"${new_cash} added to the cash account.\")\n",
    "            return self.cash \n",
    "        \n",
    "    def buyStock(self, num_shares, Stock):\n",
    "        if self.cash < num_shares*Stock.price:\n",
    "            print(\"Error, you don't have enough cash to buy this amount of stocks.\")\n",
    "            return\n",
    "        self.num_shares += num_shares\n",
    "        self.stocks[Stock.symbol] = num_shares \n",
    "        self.cash -= num_shares*Stock.price\n",
    "        self.transactions.append(f\"{num_shares} shares of {Stock.symbol} added to the Stocks account.\")\n",
    "        return self.stocks\n",
    "    \n",
    "    def buyMutualFund(self, percentage_share, MutualFund):\n",
    "        if percentage_share > 100 or percentage_share < 0:\n",
    "            print(\"Error, you cannot have negative shares or more than 100 percentage shares of the fund.\")\n",
    "            return\n",
    "        self.percentage_shares += percentage_share\n",
    "        self.funds[MutualFund.symbol] = percentage_share\n",
    "        self.cash -= percentage_share*MutualFund.price\n",
    "        self.transactions.append(f\"{percentage_share}% shares of {MutualFund.symbol} added to the Mutual Fund account.\")\n",
    "        return self.funds\n",
    "        \n",
    "    def withdrawCash(self, withdrawn_cash):\n",
    "        if self.cash < withdrawn_cash:\n",
    "            print(\"Error, you don't have enough cash to withdraw this amount.\")\n",
    "            return\n",
    "        self.cash -= withdrawn_cash\n",
    "        self.transactions.append(f\"${withdrawn_cash} withdrawn from the cash account.\")\n",
    "        return self.cash\n",
    "    \n",
    "    def sellStock(self, sold_shares, Stock):\n",
    "        if sold_shares == self.stocks[Stock.symbol]:\n",
    "            self.stocks.pop(Stock.symbol)\n",
    "            selling_price = rand_s*Stock.price           \n",
    "        elif sold_shares < self.stocks[Stock.symbol]:\n",
    "            selling_price = rand_s*Stock.price          \n",
    "        self.cash += selling_price*sold_shares\n",
    "        self.num_shares -= sold_shares\n",
    "        self.stocks[Stock.symbol] -= sold_shares\n",
    "        self.transactions.append(f\"{sold_shares} number of {Stock.symbol} shares withdrawn from the stock account.\")\n",
    "        return self.stocks\n",
    "\n",
    "    def sellMutualFund(self, sold_mf, MutualFund):\n",
    "        if sold_mf == self.funds[MutualFund.symbol]:\n",
    "            self.funds.pop(MutualFund)\n",
    "            fund_sell_price = rand_mf*MutualFund.price\n",
    "        elif sold_mf < self.funds[MutualFund.symbol]:\n",
    "            fund_sell_price = rand_mf*MutualFund.price       \n",
    "        self.cash += fund_sell_price*sold_mf\n",
    "        self.percentage_shares -= sold_mf\n",
    "        self.funds[MutualFund.symbol] -= sold_mf\n",
    "        self.transactions.append(f\"{sold_mf} percentage of {MutualFund.symbol} shares withdrawn from the mutual fund account.\")\n",
    "        return self.funds\n",
    "            \n",
    "    def print_portfolio(self):\n",
    "        print(\n",
    "        f\"\"\"Here is your portfolio:\n",
    "        You have {self.cash} $ cash, \n",
    "        {self.stocks} amount of stocks, \n",
    "        {self.funds} shares of mutual funds.\n",
    "        {self.bonds} shares of bonds.\"\"\")\n",
    "        \n",
    "    def history(self):\n",
    "        print(*self.transactions, sep=\"\\n\")\n",
    "    \n",
    "    def buyBond(self, bond_shares, Bond):\n",
    "        if self.cash < bond_shares*Bond.price:\n",
    "            print(\"Error, you don't have enough cash to buy this amount of bonds.\")\n",
    "            return\n",
    "        self.bond_shares += bond_shares\n",
    "        self.bonds[Bond.symbol] = self.bond_shares \n",
    "        self.cash -= bond_shares*Bond.price\n",
    "        self.cash += bond_shares*Bond.coupon\n",
    "        self.transactions.append(f\"{bond_shares} shares of {Bond.symbol} added to the Bonds account. \\nYou received ${Bond.coupon*bond_shares} as your first coupon payment.\")\n",
    "        return self.bonds\n",
    "    \n",
    "    def sellBond(self, sold_bond, Bond):\n",
    "        if sold_bond == self.bonds[Bond.symbol]:\n",
    "            self.bonds.pop(Bond.symbol)\n",
    "            bond_sell_price = rand_b*Bond.price      \n",
    "        elif sold_bond < self.bonds[Bond.symbol]:\n",
    "            bond_sell_price = rand_b*Bond.price          \n",
    "        self.cash += bond_sell_price*sold_bond\n",
    "        self.bond_shares -= sold_bond\n",
    "        self.bonds[Bond.symbol] -= sold_bond\n",
    "        self.transactions.append(f\"{sold_bond} number of {Bond.symbol} shares withdrawn from the Bonds account.\")\n",
    "        return self.bonds"
   ]
  },
  {
   "cell_type": "code",
   "execution_count": 2,
   "metadata": {},
   "outputs": [],
   "source": [
    "portfolio = Portfolio()"
   ]
  },
  {
   "cell_type": "code",
   "execution_count": 3,
   "metadata": {},
   "outputs": [
    {
     "data": {
      "text/plain": [
       "600.5"
      ]
     },
     "execution_count": 3,
     "metadata": {},
     "output_type": "execute_result"
    }
   ],
   "source": [
    "portfolio.addCash(600.50)"
   ]
  },
  {
   "cell_type": "code",
   "execution_count": 4,
   "metadata": {},
   "outputs": [],
   "source": [
    "s = Stock(20, \"HFH\")"
   ]
  },
  {
   "cell_type": "code",
   "execution_count": 5,
   "metadata": {},
   "outputs": [
    {
     "data": {
      "text/plain": [
       "{'HFH': 5}"
      ]
     },
     "execution_count": 5,
     "metadata": {},
     "output_type": "execute_result"
    }
   ],
   "source": [
    "portfolio.buyStock(5, s)"
   ]
  },
  {
   "cell_type": "code",
   "execution_count": 6,
   "metadata": {},
   "outputs": [
    {
     "name": "stdout",
     "output_type": "stream",
     "text": [
      "Error, you don't have enough cash to buy this amount of stocks.\n"
     ]
    }
   ],
   "source": [
    "portfolio.buyStock(250, s)"
   ]
  },
  {
   "cell_type": "code",
   "execution_count": 7,
   "metadata": {},
   "outputs": [],
   "source": [
    "mf1 = MutualFund(\"BRT\")"
   ]
  },
  {
   "cell_type": "code",
   "execution_count": 8,
   "metadata": {},
   "outputs": [],
   "source": [
    "mf2 = MutualFund(\"GHT\")"
   ]
  },
  {
   "cell_type": "code",
   "execution_count": 9,
   "metadata": {},
   "outputs": [
    {
     "data": {
      "text/plain": [
       "{'BRT': 10.5}"
      ]
     },
     "execution_count": 9,
     "metadata": {},
     "output_type": "execute_result"
    }
   ],
   "source": [
    "portfolio.buyMutualFund(10.5, mf1)"
   ]
  },
  {
   "cell_type": "code",
   "execution_count": 10,
   "metadata": {},
   "outputs": [
    {
     "data": {
      "text/plain": [
       "{'BRT': 10.5, 'GHT': 5}"
      ]
     },
     "execution_count": 10,
     "metadata": {},
     "output_type": "execute_result"
    }
   ],
   "source": [
    "portfolio.buyMutualFund(5, mf2)"
   ]
  },
  {
   "cell_type": "code",
   "execution_count": 11,
   "metadata": {},
   "outputs": [
    {
     "name": "stdout",
     "output_type": "stream",
     "text": [
      "Error, you cannot have negative shares or more than 100 percentage shares of the fund.\n"
     ]
    }
   ],
   "source": [
    "portfolio.buyMutualFund(120, mf2)"
   ]
  },
  {
   "cell_type": "code",
   "execution_count": 12,
   "metadata": {},
   "outputs": [],
   "source": [
    "b = Bond(40, \"BND\", 5)"
   ]
  },
  {
   "cell_type": "code",
   "execution_count": 13,
   "metadata": {},
   "outputs": [
    {
     "data": {
      "text/plain": [
       "{'BND': 2}"
      ]
     },
     "execution_count": 13,
     "metadata": {},
     "output_type": "execute_result"
    }
   ],
   "source": [
    "portfolio.buyBond(2, b)"
   ]
  },
  {
   "cell_type": "code",
   "execution_count": 14,
   "metadata": {},
   "outputs": [
    {
     "name": "stdout",
     "output_type": "stream",
     "text": [
      "Here is your portfolio:\n",
      "        You have 415.0 $ cash, \n",
      "        {'HFH': 5} amount of stocks, \n",
      "        {'BRT': 10.5, 'GHT': 5} shares of mutual funds.\n",
      "        {'BND': 2} shares of bonds.\n"
     ]
    }
   ],
   "source": [
    "portfolio.print_portfolio()"
   ]
  },
  {
   "cell_type": "code",
   "execution_count": 15,
   "metadata": {},
   "outputs": [
    {
     "name": "stdout",
     "output_type": "stream",
     "text": [
      "$600.5 added to the cash account.\n",
      "5 shares of HFH added to the Stocks account.\n",
      "10.5% shares of BRT added to the Mutual Fund account.\n",
      "5% shares of GHT added to the Mutual Fund account.\n",
      "2 shares of BND added to the Bonds account. \n",
      "You received $10 as your first coupon payment.\n"
     ]
    }
   ],
   "source": [
    "portfolio.history()"
   ]
  },
  {
   "cell_type": "code",
   "execution_count": 16,
   "metadata": {},
   "outputs": [
    {
     "data": {
      "text/plain": [
       "{'BRT': 5.5, 'GHT': 5}"
      ]
     },
     "execution_count": 16,
     "metadata": {},
     "output_type": "execute_result"
    }
   ],
   "source": [
    "portfolio.sellMutualFund(5, mf1)"
   ]
  },
  {
   "cell_type": "code",
   "execution_count": 17,
   "metadata": {},
   "outputs": [
    {
     "data": {
      "text/plain": [
       "{'HFH': 4}"
      ]
     },
     "execution_count": 17,
     "metadata": {},
     "output_type": "execute_result"
    }
   ],
   "source": [
    "portfolio.sellStock(1, s)"
   ]
  },
  {
   "cell_type": "code",
   "execution_count": 18,
   "metadata": {},
   "outputs": [
    {
     "data": {
      "text/plain": [
       "{'BND': 3}"
      ]
     },
     "execution_count": 18,
     "metadata": {},
     "output_type": "execute_result"
    }
   ],
   "source": [
    "portfolio.buyBond(1, b)"
   ]
  },
  {
   "cell_type": "code",
   "execution_count": 19,
   "metadata": {},
   "outputs": [
    {
     "data": {
      "text/plain": [
       "{'BND': 2}"
      ]
     },
     "execution_count": 19,
     "metadata": {},
     "output_type": "execute_result"
    }
   ],
   "source": [
    "portfolio.sellBond(1, b)"
   ]
  },
  {
   "cell_type": "code",
   "execution_count": 20,
   "metadata": {},
   "outputs": [
    {
     "data": {
      "text/plain": [
       "407.3442304753269"
      ]
     },
     "execution_count": 20,
     "metadata": {},
     "output_type": "execute_result"
    }
   ],
   "source": [
    "portfolio.withdrawCash(40)"
   ]
  },
  {
   "cell_type": "code",
   "execution_count": 21,
   "metadata": {},
   "outputs": [
    {
     "name": "stdout",
     "output_type": "stream",
     "text": [
      "Here is your portfolio:\n",
      "        You have 407.3442304753269 $ cash, \n",
      "        {'HFH': 4} amount of stocks, \n",
      "        {'BRT': 5.5, 'GHT': 5} shares of mutual funds.\n",
      "        {'BND': 2} shares of bonds.\n"
     ]
    }
   ],
   "source": [
    "portfolio.print_portfolio()"
   ]
  },
  {
   "cell_type": "code",
   "execution_count": 22,
   "metadata": {},
   "outputs": [
    {
     "name": "stdout",
     "output_type": "stream",
     "text": [
      "$600.5 added to the cash account.\n",
      "5 shares of HFH added to the Stocks account.\n",
      "10.5% shares of BRT added to the Mutual Fund account.\n",
      "5% shares of GHT added to the Mutual Fund account.\n",
      "2 shares of BND added to the Bonds account. \n",
      "You received $10 as your first coupon payment.\n",
      "5 percentage of BRT shares withdrawn from the mutual fund account.\n",
      "1 number of HFH shares withdrawn from the stock account.\n",
      "1 shares of BND added to the Bonds account. \n",
      "You received $5 as your first coupon payment.\n",
      "1 number of BND shares withdrawn from the Bonds account.\n",
      "$40 withdrawn from the cash account.\n"
     ]
    }
   ],
   "source": [
    "portfolio.history()"
   ]
  }
 ],
 "metadata": {
  "kernelspec": {
   "display_name": "Python 3",
   "language": "python",
   "name": "python3"
  },
  "language_info": {
   "codemirror_mode": {
    "name": "ipython",
    "version": 3
   },
   "file_extension": ".py",
   "mimetype": "text/x-python",
   "name": "python",
   "nbconvert_exporter": "python",
   "pygments_lexer": "ipython3",
   "version": "3.8.3"
  }
 },
 "nbformat": 4,
 "nbformat_minor": 4
}
